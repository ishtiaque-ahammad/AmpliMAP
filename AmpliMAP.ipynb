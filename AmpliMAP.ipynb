{
 "cells": [
  {
   "cell_type": "markdown",
   "id": "db8a6782-ac93-4ca3-a287-90f5a21c07b5",
   "metadata": {
    "tags": [],
    "toc-hr-collapsed": true
   },
   "source": [
    "# AmpliMAP"
   ]
  },
  {
   "cell_type": "markdown",
   "id": "a0c043fe-b68d-4cda-b868-d646436e2d9d",
   "metadata": {
    "jp-MarkdownHeadingCollapsed": true,
    "tags": []
   },
   "source": [
    "## 1. Setting up the environment"
   ]
  },
  {
   "cell_type": "code",
   "execution_count": null,
   "id": "1a5ad3bc-7543-4f48-9dc1-587c530b9b18",
   "metadata": {},
   "outputs": [],
   "source": [
    "# Make neccessary directories\n",
    "mkdir qza qzv lefse ancom"
   ]
  },
  {
   "cell_type": "code",
   "execution_count": null,
   "id": "e00edbdb-f368-46aa-a634-d5ff876a8d19",
   "metadata": {
    "ExecuteTime": {
     "end_time": "2021-09-27T04:08:33.488532Z",
     "start_time": "2021-09-27T04:08:25.336893Z"
    },
    "run_control": {
     "marked": false
    }
   },
   "outputs": [],
   "source": [
    "# Activate the Qiime2 conda environment\n",
    "conda activate qiime2"
   ]
  },
  {
   "cell_type": "code",
   "execution_count": null,
   "id": "db213951-4537-4710-b393-ce7747ae8399",
   "metadata": {
    "ExecuteTime": {
     "end_time": "2021-09-26T12:56:19.794833Z",
     "start_time": "2021-09-26T12:56:19.408388Z"
    },
    "run_control": {
     "marked": false
    }
   },
   "outputs": [],
   "source": [
    "# Check the Qiime2 version\n",
    "qiime --version"
   ]
  },
  {
   "cell_type": "markdown",
   "id": "f61476e2-a81f-4972-ba57-e186224f3ab5",
   "metadata": {
    "jp-MarkdownHeadingCollapsed": true,
    "tags": [],
    "toc-hr-collapsed": true,
    "toc-nb-collapsed": true
   },
   "source": [
    "## 2. Import and visualize the data"
   ]
  },
  {
   "cell_type": "code",
   "execution_count": null,
   "id": "0eb6fdad-66ad-44b2-a770-aca034391db6",
   "metadata": {
    "run_control": {
     "marked": false
    }
   },
   "outputs": [],
   "source": [
    "# Visualize the metadata file\n",
    "qiime metadata tabulate \\\n",
    "  --m-input-file metadata.tsv \\\n",
    "  --o-visualization qzv/metadata.qzv"
   ]
  },
  {
   "cell_type": "code",
   "execution_count": null,
   "id": "1c0c0a76-48b0-4d86-80cf-9c18ac3b0f04",
   "metadata": {},
   "outputs": [],
   "source": [
    "# view the metadata.qzv file\n",
    "qiime tools view qzv/metadata.qzv"
   ]
  },
  {
   "cell_type": "code",
   "execution_count": null,
   "id": "354bb949-59ed-49ba-83d9-6fe4e16e86d3",
   "metadata": {
    "run_control": {
     "marked": false
    }
   },
   "outputs": [],
   "source": [
    "# Import the raw data into Qiime2 using the manifest file\n",
    "qiime tools import \\\n",
    "  --type 'SampleData[PairedEndSequencesWithQuality]' \\\n",
    "  --input-path manifest.tsv \\\n",
    "  --input-format PairedEndFastqManifestPhred33V2 \\\n",
    "  --output-path qza/paired-end-demux.qza"
   ]
  },
  {
   "cell_type": "code",
   "execution_count": null,
   "id": "3f80d1f1-9486-4fcd-8535-7204669c0186",
   "metadata": {
    "run_control": {
     "marked": false
    },
    "tags": []
   },
   "outputs": [],
   "source": [
    "# Visualize the imported data\n",
    "qiime demux summarize \\\n",
    "  --i-data qza/paired-end-demux.qza \\\n",
    "  --p-n 100000 \\\n",
    "  --o-visualization qzv/paired-end-demux.qzv"
   ]
  },
  {
   "cell_type": "code",
   "execution_count": null,
   "id": "122c7dff-7bc3-426a-8054-865d43468ee3",
   "metadata": {
    "run_control": {
     "marked": false
    },
    "tags": []
   },
   "outputs": [],
   "source": [
    "# view the demux.qzv file\n",
    "qiime tools view qzv/demux.qzv"
   ]
  },
  {
   "cell_type": "markdown",
   "id": "92d9974e-a0d3-41cc-b8cb-8185a47fb97a",
   "metadata": {
    "jp-MarkdownHeadingCollapsed": true,
    "tags": [],
    "toc-hr-collapsed": true
   },
   "source": [
    "## 3. Quality control and feature table generation"
   ]
  },
  {
   "cell_type": "code",
   "execution_count": null,
   "id": "d963196a-af91-4085-a728-d31f3b21e442",
   "metadata": {
    "run_control": {
     "marked": false
    },
    "tags": []
   },
   "outputs": [],
   "source": [
    "# Denoise the sequences\n",
    "qiime dada2 denoise-paired \\\n",
    "  --i-demultiplexed-seqs qza/paired-end-demux.qza \\\n",
    "  --p-trim-left-f 0 \\\n",
    "  --p-trim-left-r 0 \\\n",
    "  --p-trunc-len-f 0 \\\n",
    "  --p-trunc-len-r 0 \\\n",
    "  --p-n-threads 60 \\\n",
    "  --verbose \\\n",
    "  --o-representative-sequences qza/rep-seqs.qza \\\n",
    "  --o-table qza/table.qza \\\n",
    "  --o-denoising-stats qza/denoise-stats.qza"
   ]
  },
  {
   "cell_type": "code",
   "execution_count": null,
   "id": "c028ec2f-8dc1-493a-8693-4c0a2ca58dbf",
   "metadata": {
    "run_control": {
     "marked": false
    }
   },
   "outputs": [],
   "source": [
    "# Visualize the denoising statistics\n",
    "qiime metadata tabulate \\\n",
    "    --m-input-file qza/denoise-stats.qza \\\n",
    "    --o-visualization qzv/denoise-stats.qzv"
   ]
  },
  {
   "cell_type": "code",
   "execution_count": null,
   "id": "9d496e45-379e-49ce-8ae9-cd8fcc5a4878",
   "metadata": {},
   "outputs": [],
   "source": [
    "# view the denoise-stats.qzv file\n",
    "qiime tools view qzv/denoise-stats.qzv"
   ]
  },
  {
   "cell_type": "code",
   "execution_count": null,
   "id": "d9ad64e1-dba1-4f64-b4b0-4b77ddffb4b2",
   "metadata": {
    "run_control": {
     "marked": false
    }
   },
   "outputs": [],
   "source": [
    "# Visualize the feature table\n",
    "qiime feature-table summarize \\\n",
    "  --i-table qza/table.qza \\\n",
    "  --m-sample-metadata-file bangladesh-ishtiaque-zeshan-anis-metadata_ninth_revision.tsv \\\n",
    "  --o-visualization qzv/table.qzv"
   ]
  },
  {
   "cell_type": "code",
   "execution_count": null,
   "id": "14968d06-a6be-45f9-80fb-d781756f88e3",
   "metadata": {},
   "outputs": [],
   "source": [
    "# view the table.qzv file\n",
    "qiime tools view qzv/table.qzv"
   ]
  },
  {
   "cell_type": "code",
   "execution_count": null,
   "id": "7c0eae4e-1891-437b-b8d3-8d15d895a189",
   "metadata": {
    "tags": []
   },
   "outputs": [],
   "source": [
    "# Visualize the representative sequences\n",
    "qiime feature-table tabulate-seqs \\\n",
    "  --i-data qza/rep-seqs.qza \\\n",
    "  --o-visualization qzv/rep-seqs.qzv"
   ]
  },
  {
   "cell_type": "code",
   "execution_count": null,
   "id": "416e6216-2eb0-4175-8bc7-2ea864013d94",
   "metadata": {},
   "outputs": [],
   "source": [
    "# view the rep-seqs.qzv file\n",
    "qiime tools view qzv/rep-seqs.qzv"
   ]
  },
  {
   "cell_type": "markdown",
   "id": "13bf0942-a2ce-4560-959b-d2cf0874353d",
   "metadata": {
    "jp-MarkdownHeadingCollapsed": true,
    "tags": [],
    "toc-nb-collapsed": true
   },
   "source": [
    "## 4. Phylogenetic analysis"
   ]
  },
  {
   "cell_type": "code",
   "execution_count": null,
   "id": "e087450e-2a4b-46f2-a43f-4d476cab2e65",
   "metadata": {
    "run_control": {
     "marked": false
    },
    "tags": []
   },
   "outputs": [],
   "source": [
    "# Download the reference database\n",
    "wget \\\n",
    "  -O \"sepp-refs-gg-13-8.qza\" \\\n",
    "  \"https://data.qiime2.org/2021.4/common/sepp-refs-gg-13-8.qza\""
   ]
  },
  {
   "cell_type": "code",
   "execution_count": null,
   "id": "03f99414-13a3-4e02-bdbf-57a28e5f4ee3",
   "metadata": {
    "run_control": {
     "marked": false
    }
   },
   "outputs": [],
   "source": [
    "# Generate a sepp_tree\n",
    "qiime fragment-insertion sepp \\\n",
    "  --i-representative-sequences qza/rep-seqs.qza \\\n",
    "  --i-reference-database sepp-refs-gg-13-8.qza \\\n",
    "  --o-tree qza/sepp_tree.qza \\\n",
    "  --o-placements qza/sepp_tree_placements.qza \\\n",
    "  --p-threads 60\n",
    "  --verbose"
   ]
  },
  {
   "cell_type": "code",
   "execution_count": null,
   "id": "cb778247-f17e-4493-897f-2393d77ac264",
   "metadata": {
    "run_control": {
     "marked": false
    }
   },
   "outputs": [],
   "source": [
    "# Export the sepp tree\n",
    "qiime tools export \\\n",
    "  --input-path qza/sepp_tree.qza \\\n",
    "  --output-path sepp_exported-tree"
   ]
  },
  {
   "cell_type": "markdown",
   "id": "101c8656-2f9e-41c9-8a88-c61880ec0cb1",
   "metadata": {
    "jp-MarkdownHeadingCollapsed": true,
    "tags": [],
    "toc-hr-collapsed": true
   },
   "source": [
    "## 5. Diversity analysis"
   ]
  },
  {
   "cell_type": "markdown",
   "id": "88b21790-beac-4dd2-ba56-b95d4ab1ac72",
   "metadata": {
    "jp-MarkdownHeadingCollapsed": true,
    "tags": []
   },
   "source": [
    "### Core metrics"
   ]
  },
  {
   "cell_type": "code",
   "execution_count": null,
   "id": "74155b7e-0538-472e-b2e4-c6f8eaa044c8",
   "metadata": {
    "run_control": {
     "marked": false
    },
    "tags": []
   },
   "outputs": [],
   "source": [
    "# Generate core matrics\n",
    "qiime diversity core-metrics-phylogenetic \\\n",
    "  --i-table qza/table.qza \\\n",
    "  --i-phylogeny qza/sepp_tree.qza \\\n",
    "  --m-metadata-file bangladesh-ishtiaque-zeshan-anis-metadata_ninth_revision.tsv \\\n",
    "  --p-sampling-depth 3525 \\\n",
    "  --p-n-jobs-or-threads 'auto' \\\n",
    "  --output-dir core-metrics-results"
   ]
  },
  {
   "cell_type": "markdown",
   "id": "e6f22dac-680c-4714-abc3-4d040d143a51",
   "metadata": {
    "jp-MarkdownHeadingCollapsed": true,
    "tags": []
   },
   "source": [
    "### Alpha rarefaction"
   ]
  },
  {
   "cell_type": "code",
   "execution_count": null,
   "id": "665b5732-d08f-4910-909f-2443bb482d25",
   "metadata": {
    "run_control": {
     "marked": false
    }
   },
   "outputs": [],
   "source": [
    "#Visualize the rarefied feature table\n",
    "qiime feature-table summarize \\\n",
    "  --i-table core-metrics-results/rarefied_table.qza \\\n",
    "  --m-sample-metadata-file metadata.tsv \\\n",
    "  --o-visualization qzv/rarefied_table.qzv"
   ]
  },
  {
   "cell_type": "code",
   "execution_count": null,
   "id": "49828016-2500-47b1-b94d-e48f5c279fc8",
   "metadata": {},
   "outputs": [],
   "source": [
    "# view the rarefied_table.qzv file\n",
    "qiime tools view qzv/rarefied_table.qzv"
   ]
  },
  {
   "cell_type": "markdown",
   "id": "d4aa4aac-aeeb-4601-90c7-67f3798de782",
   "metadata": {
    "jp-MarkdownHeadingCollapsed": true,
    "tags": []
   },
   "source": [
    "### Alpha Diversity"
   ]
  },
  {
   "cell_type": "code",
   "execution_count": null,
   "id": "de3d86df-aaf4-412d-90a0-d9e1c8eb72b5",
   "metadata": {
    "run_control": {
     "marked": false
    }
   },
   "outputs": [],
   "source": [
    "# Calculate Observed features\n",
    "qiime diversity alpha-group-significance \\\n",
    "  --i-alpha-diversity core-metrics-results/observed_features_vector.qza \\\n",
    "  --m-metadata-file metadata.tsv \\\n",
    "  --o-visualization core-metrics-results/observed_features.qzv"
   ]
  },
  {
   "cell_type": "code",
   "execution_count": null,
   "id": "c33b1224-5c69-42fd-93e8-279252532017",
   "metadata": {
    "run_control": {
     "marked": false
    }
   },
   "outputs": [],
   "source": [
    "# Calculate Shannon diversity\n",
    "qiime diversity alpha-group-significance \\\n",
    "  --i-alpha-diversity core-metrics-results/shannon_vector.qza \\\n",
    "  --m-metadata-file metadata.tsv \\\n",
    "  --o-visualization core-metrics-results/shannon_diversity.qzv"
   ]
  },
  {
   "cell_type": "code",
   "execution_count": null,
   "id": "5a9f60c6-35ea-412b-9578-95db67722192",
   "metadata": {
    "run_control": {
     "marked": false
    }
   },
   "outputs": [],
   "source": [
    "# Calculate faith phylogenetic diversity\n",
    "qiime diversity alpha-group-significance \\\n",
    "  --i-alpha-diversity core-metrics-results/faith_pd_vector.qza \\\n",
    "  --m-metadata-file metadata.tsv \\\n",
    "  --o-visualization core-metrics-results/faith_pd.qzv"
   ]
  },
  {
   "cell_type": "code",
   "execution_count": null,
   "id": "cfbdf8cb-bab9-4a4a-8553-a2c0c4ce5232",
   "metadata": {
    "run_control": {
     "marked": false
    }
   },
   "outputs": [],
   "source": [
    "# Calculate pielou's evenness\n",
    "qiime diversity alpha-group-significance \\\n",
    "  --i-alpha-diversity core-metrics-results/evenness_vector.qza \\\n",
    "  --m-metadata-file metadata.tsv \\\n",
    "  --o-visualization core-metrics-results/pielou_evenness.qzv"
   ]
  },
  {
   "cell_type": "markdown",
   "id": "a4a572d9-97e8-4064-a790-1a7aa2045f98",
   "metadata": {
    "jp-MarkdownHeadingCollapsed": true,
    "tags": []
   },
   "source": [
    "### Beta diversity"
   ]
  },
  {
   "cell_type": "code",
   "execution_count": null,
   "id": "b1a68e9a-0cf6-4032-b033-20573000371e",
   "metadata": {
    "run_control": {
     "marked": false
    },
    "tags": []
   },
   "outputs": [],
   "source": [
    "# Calculate Jaccard distance\n",
    "qiime diversity beta-group-significance \\\n",
    "  --i-distance-matrix core-metrics-results/jaccard_distance_matrix.qza \\\n",
    "  --m-metadata-file metadata.tsv \\\n",
    "  --m-metadata-column Population \\\n",
    "  --o-visualization qzv/jaccard-distance-population.qzv \\\n",
    "  --p-pairwise"
   ]
  },
  {
   "cell_type": "code",
   "execution_count": null,
   "id": "97d7b9a0-a7b0-41db-9a85-69a46db1bcc8",
   "metadata": {
    "run_control": {
     "marked": false
    },
    "tags": []
   },
   "outputs": [],
   "source": [
    "# Calculate Bray Curtis\n",
    "qiime diversity beta-group-significance \\\n",
    "  --i-distance-matrix core-metrics-results/bray_curtis_distance_matrix.qza \\\n",
    "  --m-metadata-file metadata.tsv \\\n",
    "  --m-metadata-column Population \\\n",
    "  --o-visualization qzv/bray-curtis-population.qzv \\\n",
    "  --p-pairwise"
   ]
  },
  {
   "cell_type": "code",
   "execution_count": null,
   "id": "c387e148-a73a-4e46-906c-e0c900b46c1c",
   "metadata": {
    "run_control": {
     "marked": false
    },
    "tags": []
   },
   "outputs": [],
   "source": [
    "# Calculate Unweighted UniFrac\n",
    "qiime diversity beta-group-significance \\\n",
    "  --i-distance-matrix core-metrics-results/unweighted_unifrac_distance_matrix.qza \\\n",
    "  --m-metadata-file metadata.tsv \\\n",
    "  --m-metadata-column Population \\\n",
    "  --o-visualization qzv/unweighted-unifrac-population.qzv \\\n",
    "  --p-pairwise"
   ]
  },
  {
   "cell_type": "code",
   "execution_count": null,
   "id": "ea77dc6d-21fc-44c3-b237-26dc8f2f2853",
   "metadata": {
    "run_control": {
     "marked": false
    },
    "tags": []
   },
   "outputs": [],
   "source": [
    "# Calculate Weighted UniFrac\n",
    "qiime diversity beta-group-significance \\\n",
    "  --i-distance-matrix core-metrics-results/weighted_unifrac_distance_matrix.qza \\\n",
    "  --m-metadata-file metadata.tsv \\\n",
    "  --m-metadata-column Population \\\n",
    "  --o-visualization qzv/weighted-unifrac-population.qzv \\\n",
    "  --p-pairwise"
   ]
  },
  {
   "cell_type": "markdown",
   "id": "a81166a0-55dc-416f-ae04-b548ed3d7d4b",
   "metadata": {
    "jp-MarkdownHeadingCollapsed": true,
    "tags": []
   },
   "source": [
    "### Beta Rarefaction"
   ]
  },
  {
   "cell_type": "code",
   "execution_count": null,
   "id": "c81a47da-458e-48a6-94d2-b909615ab89c",
   "metadata": {
    "run_control": {
     "marked": false
    },
    "scrolled": true
   },
   "outputs": [],
   "source": [
    "# Perform beta rarefaction\n",
    "qiime diversity beta-rarefaction \\\n",
    "    --i-table qza/table.qza \\\n",
    "    --p-metric weighted_unifrac \\\n",
    "    --p-clustering-method upgma \\\n",
    "    --m-metadata-file metadata.tsv \\\n",
    "    --p-sampling-depth 34568 \\\n",
    "    --i-phylogeny qza/rooted-tree.qza \\\n",
    "    --o-visualization qzv/beta-rarefaction.qzv \\\n",
    "    --verbose"
   ]
  },
  {
   "cell_type": "code",
   "execution_count": null,
   "id": "fb3c5786-6e29-40d2-9794-8a2c0aa8dec8",
   "metadata": {
    "run_control": {
     "marked": false
    }
   },
   "outputs": [],
   "source": [
    "# Export the upgma tree\n",
    "qiime tools export \\\n",
    "    --input-path qzv/beta-rarefaction.qzv \\\n",
    "    --output-path qzv/upgma-tree"
   ]
  },
  {
   "cell_type": "markdown",
   "id": "5d7b9c66-4ad5-4cca-b265-19dc5d41dd3a",
   "metadata": {
    "jp-MarkdownHeadingCollapsed": true,
    "tags": [],
    "toc-hr-collapsed": true,
    "toc-nb-collapsed": true
   },
   "source": [
    "## 6. Taxonomic analysis"
   ]
  },
  {
   "cell_type": "code",
   "execution_count": null,
   "id": "02ba8767-1d87-4e54-90af-f0225d8e2c4e",
   "metadata": {
    "run_control": {
     "marked": false
    },
    "tags": []
   },
   "outputs": [],
   "source": [
    "# Download the classifier\n",
    "wget \\\n",
    "  -O \"gg-13-8-99-515-806-nb-classifier.qza\" \\\n",
    "  \"https://data.qiime2.org/2021.4/common/gg-13-8-99-515-806-nb-classifier.qza\""
   ]
  },
  {
   "cell_type": "code",
   "execution_count": null,
   "id": "b5dbd9d8-4518-4c7b-b53c-7d071f91f1e3",
   "metadata": {},
   "outputs": [],
   "source": [
    "# Generate taxonomy\n",
    "qiime feature-classifier classify-sklearn \\\n",
    "  --i-classifier gg-13-8-99-515-806-nb-classifier.qza \\\n",
    "  --i-reads qza/rep-seqs.qza \\\n",
    "  --o-classification qza/taxonomy.qza"
   ]
  },
  {
   "cell_type": "code",
   "execution_count": null,
   "id": "011e9c2d",
   "metadata": {
    "run_control": {
     "marked": false
    },
    "tags": []
   },
   "outputs": [],
   "source": [
    "# Visualize the taxonomy\n",
    "qiime metadata tabulate \\\n",
    "  --m-input-file qza/taxonomy.qza \\\n",
    "  --o-visualization qzv/taxonomy.qzv"
   ]
  },
  {
   "cell_type": "code",
   "execution_count": null,
   "id": "a5ea0e41-af79-4f7c-a1ca-4466283937bf",
   "metadata": {},
   "outputs": [],
   "source": [
    "# view the taxonomy.qzv file\n",
    "qiime tools view qzv/taxonomy.qzv"
   ]
  },
  {
   "cell_type": "markdown",
   "id": "6af6acbd-3f6c-4ed3-adac-54fb579c9a72",
   "metadata": {
    "tags": []
   },
   "source": [
    "### Barplot for taxonomic composition"
   ]
  },
  {
   "cell_type": "code",
   "execution_count": null,
   "id": "36fdd29e-6ebb-4efc-a966-015bc19ff982",
   "metadata": {
    "run_control": {
     "marked": false
    }
   },
   "outputs": [],
   "source": [
    "# Filter out samples with fewer sequences than the rarefaction depth\n",
    "qiime feature-table filter-samples \\\n",
    "  --i-table qza/table.qza \\\n",
    "  --p-min-frequency 34568 \\\n",
    "  --o-filtered-table qza/table_34568.qza"
   ]
  },
  {
   "cell_type": "code",
   "execution_count": null,
   "id": "3fb67ce0-ed74-49b0-8912-5cdcd3e2ebe0",
   "metadata": {
    "run_control": {
     "marked": false
    }
   },
   "outputs": [],
   "source": [
    "# Create taxonomy barplot\n",
    "qiime taxa barplot \\\n",
    "  --i-table qza/table_34568.qza \\\n",
    "  --i-taxonomy qza/taxonomy.qza \\\n",
    "  --m-metadata-file ./metadata.tsv \\\n",
    "  --o-visualization qzv/taxa_barplot.qzv"
   ]
  },
  {
   "cell_type": "markdown",
   "id": "0da75d25-f4d4-46c9-bec7-017eac829d90",
   "metadata": {
    "jp-MarkdownHeadingCollapsed": true,
    "tags": []
   },
   "source": [
    "## 7. Differential abundance calculation with Lefse"
   ]
  },
  {
   "cell_type": "code",
   "execution_count": null,
   "id": "537a664b",
   "metadata": {},
   "outputs": [],
   "source": [
    "mkdir lefse"
   ]
  },
  {
   "cell_type": "code",
   "execution_count": null,
   "id": "7fce19c0-72eb-471a-b713-176b72a9a8bd",
   "metadata": {},
   "outputs": [],
   "source": [
    "# Collapse the feature table at genus level(level-6) for Lefse analysis\n",
    "qiime taxa collapse \\\n",
    "--i-table qza/table.qza \\\n",
    "--o-collapsed-table lefse/feature-table-for-lefse-level-6-genus.qza \\\n",
    "--p-level 6 \\\n",
    "--i-taxonomy qza/taxonomy.qza"
   ]
  },
  {
   "cell_type": "code",
   "execution_count": null,
   "id": "dc2b943f",
   "metadata": {},
   "outputs": [],
   "source": [
    "# Filter out the very lowly abundant features\n",
    "qiime feature-table filter-features \\\n",
    "  --i-table lefse/feature-table-for-lefsee-level-6-genus.qza \\\n",
    "  --p-min-samples 27 \\\n",
    "  --o-filtered-table lefse/filtered-feature-table-for-lefse-level-6-genus.qza"
   ]
  },
  {
   "cell_type": "code",
   "execution_count": null,
   "id": "3abf6cc5",
   "metadata": {},
   "outputs": [],
   "source": [
    "# Visualize the filtered feature table for lefse\n",
    "qiime feature-table summarize \\\n",
    "  --i-table lefse/filtered-feature-table-for-lefse-level-6-genus.qza \\\n",
    "  --m-sample-metadata-file metadata.tsv \\\n",
    "  --o-visualization lefse/filtered-feature-table-for-lefse-level-6-genus.qzv"
   ]
  },
  {
   "cell_type": "code",
   "execution_count": null,
   "id": "cb0431b1-5920-4a10-a1c9-3329d4beff76",
   "metadata": {},
   "outputs": [],
   "source": [
    "# view the filtered-feature-table-for-lefse-level-6-genus.qzv file\n",
    "qiime tools view lefse/filtered-feature-table-for-lefse-level-6-genus.qzv"
   ]
  },
  {
   "cell_type": "code",
   "execution_count": null,
   "id": "8bd68f52-576b-44a0-8af5-13507d28c9a2",
   "metadata": {},
   "outputs": [],
   "source": [
    "# Calculate relative frequency from the filtered featured table\n",
    "qiime feature-table relative-frequency \\\n",
    "--i-table lefse/filtered-feature-table-for-lefse-level-6-genus.qza \\\n",
    "--o-relative-frequency-table lefse/relative-frequency.qza"
   ]
  },
  {
   "cell_type": "code",
   "execution_count": null,
   "id": "23e75592-aeb2-4392-a1a1-92aa1b058cc9",
   "metadata": {},
   "outputs": [],
   "source": [
    "# Convert the relative frequency into a biome file\n",
    "qiime tools export \\\n",
    "    --input-path lefse/relative-frequency.qza \\\n",
    "    --output-path lefse/biom_file"
   ]
  },
  {
   "cell_type": "code",
   "execution_count": null,
   "id": "239b32d6",
   "metadata": {},
   "outputs": [],
   "source": [
    "# Convert biome file to .tsv file\n",
    "biom convert \\\n",
    "    -i lefse/biom_file/feature-table.biom \\\n",
    "    -o lefse/biom_file/feature-table.tsv \\\n",
    "    --to-tsv"
   ]
  },
  {
   "cell_type": "code",
   "execution_count": null,
   "id": "3f338441",
   "metadata": {},
   "outputs": [],
   "source": [
    "# Convert biom file to .txt file\n",
    "biom convert \\\n",
    "    -i lefse/biom_file/feature-table.biom \\\n",
    "    -o lefse/biom_file/frequency.table.txt \\\n",
    "    --header-key “taxonomy” --to-tsv"
   ]
  },
  {
   "cell_type": "code",
   "execution_count": null,
   "id": "a6720c38",
   "metadata": {},
   "outputs": [],
   "source": [
    "#Replace “;” with “|”\n",
    "cat lefse/biom_file/feature-table.tsv | \\\n",
    "tr \";\" \"|\" > lefse/relative-frequency-table.tsv"
   ]
  },
  {
   "cell_type": "markdown",
   "id": "66551997",
   "metadata": {},
   "source": [
    "**At this point, run the lefse_input_genarator.sh script. Before running the script, make sure the order of Sample-IDs (i.e. rownames) in the metadata file exactly matches the order of the sample-IDs (i.e. column names left to right) in the relative-frequency-table.tsv file.**"
   ]
  },
  {
   "cell_type": "code",
   "execution_count": null,
   "id": "319b3e51",
   "metadata": {},
   "outputs": [],
   "source": [
    "pwd"
   ]
  },
  {
   "cell_type": "code",
   "execution_count": null,
   "id": "9d978c95",
   "metadata": {},
   "outputs": [],
   "source": [
    "cd lefse"
   ]
  },
  {
   "cell_type": "code",
   "execution_count": null,
   "id": "0043f1ba",
   "metadata": {},
   "outputs": [],
   "source": [
    "# Run Lefse\n",
    "for name in Population\n",
    "\n",
    "do\n",
    "\n",
    "#Input file name\n",
    "input=$name/${name}-lefse-input.tsv\n",
    "\n",
    "#Normalization value (chosen from filtered-feature-table-lefse.qzv file)\n",
    "nvalue=41597\n",
    "\n",
    "#Image DPI\n",
    "dpi=600\n",
    "\n",
    "lefse_format_input.py \\\n",
    "    $input \\\n",
    "    $name/temp1.in \\\n",
    "    -c 1 -u 2 -o $nvalue\n",
    "\n",
    "lefse_run.py \\\n",
    "    $name/temp1.in \\\n",
    "    $name/temp2.res\n",
    "    \n",
    "lefse_plot_res.py \\\n",
    "    $name/temp2.res \\\n",
    "    $name/${name}-lefse.svg \\\n",
    "    --feature_font_size 11 \\\n",
    "    --format svg \\\n",
    "    --title $name \\\n",
    "    --dpi $dpi \\\n",
    "    --left_space .25\n",
    "\n",
    "\n",
    "lefse_plot_cladogram.py \\\n",
    "    $name/temp2.res \\\n",
    "    $name/${name}-cladogram-lefse.svg \\\n",
    "    --title $name \\\n",
    "    --format svg \\\n",
    "    --dpi $dpi\n",
    "    \n",
    "\n",
    "# Remove intermediate files\n",
    "rm -f $name/temp*\n",
    "\n",
    "done"
   ]
  },
  {
   "cell_type": "markdown",
   "id": "034e13d9-916d-4a9a-be93-28422d134b7b",
   "metadata": {
    "jp-MarkdownHeadingCollapsed": true,
    "tags": [],
    "toc-hr-collapsed": true,
    "toc-nb-collapsed": true
   },
   "source": [
    "## 8. Differential abundance calculation with ANCOM"
   ]
  },
  {
   "cell_type": "code",
   "execution_count": null,
   "id": "c0acdc06",
   "metadata": {},
   "outputs": [],
   "source": [
    "mkdir ancom"
   ]
  },
  {
   "cell_type": "code",
   "execution_count": null,
   "id": "c6315ce5-cf42-442c-81b2-53b15cd75ad6",
   "metadata": {
    "ExecuteTime": {
     "end_time": "2021-09-27T04:09:05.946082Z",
     "start_time": "2021-09-27T04:08:49.417117Z"
    },
    "run_control": {
     "marked": false
    }
   },
   "outputs": [],
   "source": [
    "# Collapse the feature table at genus level(6) for ANCOM\n",
    "qiime taxa collapse \\\n",
    "  --i-table qza/table.qza \\\n",
    "  --i-taxonomy qza/taxonomy.qza \\\n",
    "  --p-level 6 \\\n",
    "  --o-collapsed-table ancom/feature-table-for-ancom-level-6-genus.qza"
   ]
  },
  {
   "cell_type": "code",
   "execution_count": null,
   "id": "13ac2a86",
   "metadata": {
    "ExecuteTime": {
     "end_time": "2021-09-27T04:09:13.251645Z",
     "start_time": "2021-09-27T04:09:10.545530Z"
    }
   },
   "outputs": [],
   "source": [
    "# Filter out the very lowly abundant features\n",
    "qiime feature-table filter-features \\\n",
    "  --i-table ancom/feature-table-for-ancom-level-6-genus.qza \\\n",
    "  --p-min-frequency 26 \\\n",
    "  --p-min-samples 10 \\\n",
    "  --o-filtered-table ancom/filtered-feature-table-for-ancom-level-6-genus.qza"
   ]
  },
  {
   "cell_type": "code",
   "execution_count": null,
   "id": "f2e922ce",
   "metadata": {
    "ExecuteTime": {
     "end_time": "2021-09-27T04:09:17.096372Z",
     "start_time": "2021-09-27T04:09:14.523249Z"
    },
    "hide_input": false,
    "hide_output": true,
    "run_control": {
     "marked": false
    }
   },
   "outputs": [],
   "source": [
    "# Generate the composition of the filtered feature table\n",
    "qiime composition add-pseudocount \\\n",
    "  --i-table ancom/filtered-feature-table-for-ancom-level-6-genus.qza \\\n",
    "  --o-composition-table ancom/composition-of-filtered-feature-table-for-ancom-level-6-genus.qza"
   ]
  },
  {
   "cell_type": "markdown",
   "id": "214d9c52-913c-415f-839f-e6cd0f47b343",
   "metadata": {},
   "source": [
    "### Population based differential abundance calculation"
   ]
  },
  {
   "cell_type": "code",
   "execution_count": null,
   "id": "86b04b37",
   "metadata": {},
   "outputs": [],
   "source": [
    "# Differentially expressed features in Bengali population\n",
    "qiime composition ancom \\\n",
    "  --i-table ancom/composition-of-filtered-feature-table-for-ancom-level-6-genus.qza \\\n",
    "  --m-metadata-file metadata_for_ancom.tsv \\\n",
    "  --m-metadata-column Bengali_cohort \\\n",
    "  --verbose \\\n",
    "  --o-visualization ancom/ancom-Bengali.qzv"
   ]
  },
  {
   "cell_type": "code",
   "execution_count": null,
   "id": "a935bc56-f2a6-4501-9194-b4d3813bcbeb",
   "metadata": {
    "ExecuteTime": {
     "end_time": "2021-09-27T04:09:25.473668Z",
     "start_time": "2021-09-27T04:09:21.638293Z"
    },
    "hide_input": false,
    "hide_output": true,
    "run_control": {
     "marked": false
    }
   },
   "outputs": [],
   "source": [
    "# Differentially abundant features in Chakma population\n",
    "qiime composition ancom \\\n",
    "  --i-table ancom/composition-of-filtered-feature-table-for-ancom-level-6-genus.qza \\\n",
    "  --m-metadata-file metadata_for_ancom.tsv \\\n",
    "  --m-metadata-column Chakma_cohort \\\n",
    "  --verbose \\\n",
    "  --o-visualization ancom/ancom-Chakma.qzv"
   ]
  },
  {
   "cell_type": "code",
   "execution_count": null,
   "id": "46735836",
   "metadata": {
    "ExecuteTime": {
     "end_time": "2021-09-27T04:09:32.721406Z",
     "start_time": "2021-09-27T04:09:29.173074Z"
    },
    "hide_input": false,
    "hide_output": true,
    "run_control": {
     "marked": false
    }
   },
   "outputs": [],
   "source": [
    "# Differentially abundant features in Khiyang population\n",
    "qiime composition ancom \\\n",
    "  --i-table ancom/composition-of-filtered-feature-table-for-ancom-level-6-genus.qza \\\n",
    "  --m-metadata-file metadata_for_ancom.tsv \\\n",
    "  --m-metadata-column Khiyang_cohort \\\n",
    "  --verbose \\\n",
    "  --o-visualization ancom/ancom-Khiyang.qzv"
   ]
  },
  {
   "cell_type": "code",
   "execution_count": null,
   "id": "f51d162e-bdfa-4f72-8128-b7d3d7b1a5b3",
   "metadata": {
    "ExecuteTime": {
     "end_time": "2021-09-27T04:09:38.877061Z",
     "start_time": "2021-09-27T04:09:35.233308Z"
    },
    "run_control": {
     "marked": false
    }
   },
   "outputs": [],
   "source": [
    "# Differentially abundant features in Tripura population\n",
    "qiime composition ancom \\\n",
    "  --i-table qza/composition-of-filtered-feature-table-for-ancom-level-6-genus.qza \\\n",
    "  --m-metadata-file metadata_for_ancom.tsv \\\n",
    "  --m-metadata-column Tripura_cohort \\\n",
    "  --verbose \\\n",
    "  --o-visualization ancom/ancom-Tripura.qzv"
   ]
  },
  {
   "cell_type": "code",
   "execution_count": null,
   "id": "117afcb8",
   "metadata": {
    "ExecuteTime": {
     "end_time": "2021-09-27T04:09:44.722180Z",
     "start_time": "2021-09-27T04:09:41.229661Z"
    }
   },
   "outputs": [],
   "source": [
    "# Differentially abundant features in Marma population\n",
    "qiime composition ancom \\\n",
    "  --i-table qza/composition-of-filtered-feature-table-for-ancom-level-6-genus.qza \\\n",
    "  --m-metadata-file metadata_for_ancom.tsv \\\n",
    "  --m-metadata-column Marma_cohort \\\n",
    "  --verbose \\\n",
    "  --o-visualization ancom/ancom-Marma.qzv"
   ]
  }
 ],
 "metadata": {
  "kernelspec": {
   "display_name": "Bash",
   "language": "bash",
   "name": "bash"
  },
  "language_info": {
   "codemirror_mode": "shell",
   "file_extension": ".sh",
   "mimetype": "text/x-sh",
   "name": "bash"
  },
  "toc": {
   "base_numbering": 1,
   "nav_menu": {},
   "number_sections": true,
   "sideBar": true,
   "skip_h1_title": false,
   "title_cell": "Table of Contents",
   "title_sidebar": "Contents",
   "toc_cell": false,
   "toc_position": {
    "height": "calc(100% - 180px)",
    "left": "10px",
    "top": "150px",
    "width": "227px"
   },
   "toc_section_display": true,
   "toc_window_display": true
  },
  "toc-autonumbering": false,
  "toc-showtags": false,
  "widgets": {
   "application/vnd.jupyter.widget-state+json": {
    "state": {},
    "version_major": 2,
    "version_minor": 0
   }
  }
 },
 "nbformat": 4,
 "nbformat_minor": 5
}
